{
 "cells": [
  {
   "cell_type": "markdown",
   "id": "d342d3e1-6923-452d-84cc-1263e2755044",
   "metadata": {},
   "source": [
    "# Data Science Tools and Ecosystem"
   ]
  },
  {
   "cell_type": "code",
   "execution_count": null,
   "id": "655d1023-a924-44d5-903a-5c3ff34b282b",
   "metadata": {},
   "outputs": [],
   "source": [
    "In this notebook, Data Science Tools and Ecosystem are summarized."
   ]
  },
  {
   "cell_type": "markdown",
   "id": "1d3a3641-521b-40c0-a668-7bbadab63108",
   "metadata": {},
   "source": [
    "__Objectives:__\n",
    "- List popular languages for Data Science \n",
    "- Data Science Libraries\n",
    "- Arithmetic expressions in python\n",
    "- Data Science Tools\n",
    "\n"
   ]
  },
  {
   "cell_type": "markdown",
   "id": "c1e3dd0c-30cb-41ea-a833-595ad43d0336",
   "metadata": {},
   "source": [
    "Some of the popular languages that Data Scientists use are:\n",
    "1. Python\n",
    "2. R\n",
    "3. SQL"
   ]
  },
  {
   "cell_type": "markdown",
   "id": "56b08067-8c71-48ae-a8b9-bf883fa2b94a",
   "metadata": {},
   "source": [
    "Some of the commonly used libraries used by Data Scientists include:\n",
    "1. Matplotlib\n",
    "2. NumPy\n",
    "3. PyTorch"
   ]
  },
  {
   "cell_type": "markdown",
   "id": "5acbb9ce-088f-4258-9a3f-44b3bb5a937f",
   "metadata": {},
   "source": [
    "\n",
    "|Data Science Tools|\n",
    "|------------------|\n",
    "|SAS|\n",
    "|Excel|\n",
    "|Tableau|"
   ]
  },
  {
   "cell_type": "markdown",
   "id": "ad0c9ba6-8080-4987-aa9a-1c8d1f152c12",
   "metadata": {},
   "source": [
    "### Below are a few examples of evaluating arithmetic expressions in Python\n"
   ]
  },
  {
   "cell_type": "code",
   "execution_count": 3,
   "id": "6843abc5-cb80-4b7c-99e4-e22484aff895",
   "metadata": {},
   "outputs": [
    {
     "data": {
      "text/plain": [
       "17"
      ]
     },
     "execution_count": 3,
     "metadata": {},
     "output_type": "execute_result"
    }
   ],
   "source": [
    "#This a simple arithmetic expression to mutiply then add integers\n",
    "(3*4)+5"
   ]
  },
  {
   "cell_type": "code",
   "execution_count": 2,
   "id": "955b3f7e-2944-44e0-b809-5bbfb105d41c",
   "metadata": {},
   "outputs": [
    {
     "data": {
      "text/plain": [
       "3.3333333333333335"
      ]
     },
     "execution_count": 2,
     "metadata": {},
     "output_type": "execute_result"
    }
   ],
   "source": [
    "# This will convert 200 minutes to hours by diving by 60\n",
    "200/60"
   ]
  },
  {
   "cell_type": "markdown",
   "id": "55fc0f34-d622-4763-acf5-b0bf85f01d7a",
   "metadata": {},
   "source": [
    "## Author\n",
    "Selma Panduleni Theophilus"
   ]
  }
 ],
 "metadata": {
  "kernelspec": {
   "display_name": "Python",
   "language": "python",
   "name": "conda-env-python-py"
  },
  "language_info": {
   "codemirror_mode": {
    "name": "ipython",
    "version": 3
   },
   "file_extension": ".py",
   "mimetype": "text/x-python",
   "name": "python",
   "nbconvert_exporter": "python",
   "pygments_lexer": "ipython3",
   "version": "3.7.12"
  }
 },
 "nbformat": 4,
 "nbformat_minor": 5
}
